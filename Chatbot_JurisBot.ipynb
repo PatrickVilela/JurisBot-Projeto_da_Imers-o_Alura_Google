{
  "nbformat": 4,
  "nbformat_minor": 0,
  "metadata": {
    "colab": {
      "provenance": [],
      "authorship_tag": "ABX9TyOfc9MSQcIPqj2E3et3QKcJ",
      "include_colab_link": true
    },
    "kernelspec": {
      "name": "python3",
      "display_name": "Python 3"
    },
    "language_info": {
      "name": "python"
    }
  },
  "cells": [
    {
      "cell_type": "markdown",
      "metadata": {
        "id": "view-in-github",
        "colab_type": "text"
      },
      "source": [
        "<a href=\"https://colab.research.google.com/github/PatrickVilela/JurisBot-Projeto_da_Imers-o_Alura_Google/blob/main/Chatbot_JurisBot.ipynb\" target=\"_parent\"><img src=\"https://colab.research.google.com/assets/colab-badge.svg\" alt=\"Open In Colab\"/></a>"
      ]
    },
    {
      "cell_type": "markdown",
      "source": [
        "# Projeto da Imersão Alura + Google\n",
        "\n",
        "Minha sugestão de projeto é desenvolver um Chatbot de Assistência Jurídica focado em responder perguntas na área do direito empresarial.\n",
        "\n",
        "O chatbot irá se chamar JurisBot e nosso agente virtual Jim que será um robô animado e amigável, simbolizando conhecimento detalhado e uma abordagem amistosa ao direito empresarial.\n"
      ],
      "metadata": {
        "id": "eQ2VBzsWmE77"
      }
    },
    {
      "cell_type": "markdown",
      "source": [
        "## Apresentação do JurisBot\n"
      ],
      "metadata": {
        "id": "qqRfDqz4EVtj"
      }
    },
    {
      "cell_type": "markdown",
      "source": [
        "**Bem-vindo ao JurisBot!**\n",
        "\n",
        "Olá! Meu nome é **Jim**, e eu sou o seu assistente virtual aqui no **JurisBot**. Sou um robô animado e muito amigável, projetado especialmente para ajudá-lo a navegar pelo mundo complexo do Direito Empresarial.\n",
        "\n",
        "O **JurisBot** foi desenvolvido para tornar o Direito Empresarial acessível e compreensível para todos, independentemente de seu conhecimento prévio na área. Estou aqui para responder suas perguntas e fornecer informações precisas e confiáveis sobre qualquer tópico relacionado ao Direito Empresarial. Seja você um estudante, um empresário ou simplesmente alguém interessado em aprender mais sobre este campo, estou aqui para ajudar!\n",
        "\n",
        "**Como funciona o JurisBot?**\n",
        "\n",
        "É muito simples! Basta digitar sua pergunta no campo abaixo e eu farei o meu melhor para fornecer uma resposta detalhada e útil. Você pode perguntar sobre legislação, normas empresariais, direitos e obrigações das empresas, e muito mais. Se em algum momento desejar encerrar nossa conversa, apenas digite **\"Encerrar chat\"** e nossa interação será finalizada.\n",
        "\n",
        "Estou ansioso para ajudá-lo a entender melhor o Direito Empresarial. Vamos começar? Por favor, digite sua pergunta no campo abaixo e darémos início à nossa conversa.\n",
        "\n"
      ],
      "metadata": {
        "id": "agE552OW9Dv2"
      }
    },
    {
      "cell_type": "code",
      "execution_count": 1,
      "metadata": {
        "id": "ZGp61hiMmBbL"
      },
      "outputs": [],
      "source": [
        "# Instalação das Bibliotecas\n",
        "\n",
        "!pip install -q -U google-generativeai\n"
      ]
    },
    {
      "cell_type": "code",
      "source": [
        "# Importações necessárias\n",
        "import google.generativeai as genai\n",
        "from IPython.display import display, Markdown\n",
        "from google.colab import userdata\n",
        "api_key = userdata.get('SECRET_KEY')\n",
        "\n",
        "# Configuração do API Key e do modelo\n",
        "\n",
        "genai.configure(api_key=api_key)"
      ],
      "metadata": {
        "id": "ZdQKqn9_ugBt"
      },
      "execution_count": 2,
      "outputs": []
    },
    {
      "cell_type": "markdown",
      "source": [
        "Inicializando o modelo"
      ],
      "metadata": {
        "id": "Q0hLFqum5l6e"
      }
    },
    {
      "cell_type": "code",
      "source": [
        "# Escolha do modelo adequado\n",
        "model_name = \"gemini-1.0-pro\"\n",
        "model = genai.GenerativeModel(model_name=model_name)"
      ],
      "metadata": {
        "id": "C_jkFRsRFFH8"
      },
      "execution_count": 3,
      "outputs": []
    },
    {
      "cell_type": "code",
      "source": [
        "# Função para imprimir mensagens em Markdown\n",
        "def print_md(text):\n",
        "    display(Markdown(text))"
      ],
      "metadata": {
        "id": "qycGMUFWFJFU"
      },
      "execution_count": 4,
      "outputs": []
    },
    {
      "cell_type": "code",
      "source": [
        "# Introdução ao Chatbot\n",
        "intro_text = \"\"\"\n",
        "Bem-vindo ao JurisBot!\n",
        "\n",
        "Olá! Meu nome é Jim, e eu sou o seu assistente virtual aqui no JurisBot. Sou um robô animado e muito amigável, projetado especialmente para ajudá-lo a navegar pelo mundo complexo do Direito Empresarial.\n",
        "\n",
        "O JurisBot foi desenvolvido para tornar o Direito Empresarial acessível e compreensível para todos, independentemente de seu conhecimento prévio na área. Estou aqui para responder suas perguntas e fornecer informações precisas e confiáveis sobre qualquer tópico relacionado ao Direito Empresarial. Seja você um estudante, um empresário ou simplesmente alguém interessado em aprender mais sobre este campo, estou aqui para ajudar!\n",
        "\n",
        "Como funciona o JurisBot?\n",
        "\n",
        "É muito simples! Basta digitar sua pergunta no campo abaixo e eu farei o meu melhor para fornecer uma resposta detalhada e útil. Você pode perguntar sobre legislação, normas empresariais, direitos e obrigações das empresas, e muito mais. Se em algum momento desejar encerrar nossa conversa, apenas digite \"Encerrar chat\" e nossa interação será finalizada.\n",
        "\n",
        "Estou ansioso para ajudá-lo a entender melhor o Direito Empresarial. Vamos começar? Por favor, digite sua pergunta no campo abaixo e darémos início à nossa conversa.\n",
        "\"\"\"\n",
        "\n"
      ],
      "metadata": {
        "id": "XqMgVFGS-0sk"
      },
      "execution_count": 5,
      "outputs": []
    },
    {
      "cell_type": "code",
      "source": [
        "# Mostrar introdução\n",
        "print_md(intro_text)"
      ],
      "metadata": {
        "colab": {
          "base_uri": "https://localhost:8080/",
          "height": 267
        },
        "id": "--76ChzXFc_T",
        "outputId": "33aabff0-39c5-4a56-b8f6-cfb9e4a565c9"
      },
      "execution_count": 6,
      "outputs": [
        {
          "output_type": "display_data",
          "data": {
            "text/plain": [
              "<IPython.core.display.Markdown object>"
            ],
            "text/markdown": "\nBem-vindo ao JurisBot!\n\nOlá! Meu nome é Jim, e eu sou o seu assistente virtual aqui no JurisBot. Sou um robô animado e muito amigável, projetado especialmente para ajudá-lo a navegar pelo mundo complexo do Direito Empresarial.\n\nO JurisBot foi desenvolvido para tornar o Direito Empresarial acessível e compreensível para todos, independentemente de seu conhecimento prévio na área. Estou aqui para responder suas perguntas e fornecer informações precisas e confiáveis sobre qualquer tópico relacionado ao Direito Empresarial. Seja você um estudante, um empresário ou simplesmente alguém interessado em aprender mais sobre este campo, estou aqui para ajudar!\n\nComo funciona o JurisBot?\n\nÉ muito simples! Basta digitar sua pergunta no campo abaixo e eu farei o meu melhor para fornecer uma resposta detalhada e útil. Você pode perguntar sobre legislação, normas empresariais, direitos e obrigações das empresas, e muito mais. Se em algum momento desejar encerrar nossa conversa, apenas digite \"Encerrar chat\" e nossa interação será finalizada.\n\nEstou ansioso para ajudá-lo a entender melhor o Direito Empresarial. Vamos começar? Por favor, digite sua pergunta no campo abaixo e darémos início à nossa conversa.\n"
          },
          "metadata": {}
        }
      ]
    },
    {
      "cell_type": "markdown",
      "source": [
        "## Início da interação do JurisBot"
      ],
      "metadata": {
        "id": "U7k8xeriFZQ9"
      }
    },
    {
      "cell_type": "code",
      "source": [
        "chat = model.start_chat(history=[])\n",
        "chat_history = [] ## Lista para armazenar o histórico do chat"
      ],
      "metadata": {
        "id": "szO9GVxxBQA3"
      },
      "execution_count": 7,
      "outputs": []
    },
    {
      "cell_type": "code",
      "source": [
        "prompt = input(\"Faça sua pergunta sobre Direito Empresarial: \")\n",
        "\n",
        "while prompt.lower() != \"Encerrar chat\":\n",
        "    response = chat.send_message(prompt)\n",
        "    chat_history.append(f\"Você: {prompt}\")\n",
        "    chat_history.append(f\"Jim: {response.text}\")\n",
        "    print_md(f\"**Você**: {prompt}\")\n",
        "    print_md(f\"**Jim**: {response.text}\")\n",
        "    prompt = input(\"Faça sua pergunta sobre Direito Empresarial: \")\n",
        "\n",
        "print_md(\"### Chat encerrado. Obrigado por usar JurisBot!\")"
      ],
      "metadata": {
        "colab": {
          "base_uri": "https://localhost:8080/",
          "height": 585
        },
        "id": "XG4Xy-vMETOm",
        "outputId": "178f7f77-e955-4317-b48d-7b18702da3c2"
      },
      "execution_count": null,
      "outputs": [
        {
          "name": "stdout",
          "output_type": "stream",
          "text": [
            "Faça sua pergunta sobre Direito Empresarial: O que é Direito Empresarial?\n"
          ]
        },
        {
          "output_type": "display_data",
          "data": {
            "text/plain": [
              "<IPython.core.display.Markdown object>"
            ],
            "text/markdown": "**Você**: O que é Direito Empresarial?"
          },
          "metadata": {}
        },
        {
          "output_type": "display_data",
          "data": {
            "text/plain": [
              "<IPython.core.display.Markdown object>"
            ],
            "text/markdown": "**Jim**: **O que é Direito Empresarial**\n\nO Direito Empresarial é um ramo do direito que rege as relações comerciais e empresariais. É um conjunto de normas jurídicas que regulamentam a atividade das empresas, incluindo sua constituição, funcionamento e liquidação.\n\n**Objetivos do Direito Empresarial**\n\n* Fornecer um arcabouço legal para a condução de atividades empresariais.\n* Proteger os interesses das partes envolvidas em transações comerciais.\n* Facilitar a resolução de disputas comerciais.\n* Promover a concorrência leal e o desenvolvimento econômico.\n\n**Principais Áreas do Direito Empresarial**\n\n* **Direito Societário:** Regula a constituição, funcionamento e dissolução de sociedades empresárias e outras entidades jurídicas.\n* **Direito Contratual:** Governa os contratos comerciais, incluindo acordos de compra e venda, prestação de serviços e locação.\n* **Direito Tributário:** Trata da tributação de empresas e indivíduos envolvidos em atividades comerciais.\n* **Direito Trabalhista:** Regulamenta as relações entre empregadores e empregados em ambientes empresariais.\n* **Direito da Propriedade Intelectual:** Protege os direitos sobre marcas registradas, patentes, direitos autorais e outros tipos de propriedade intelectual criados ou usados por empresas.\n* **Direito do Consumidor:** Protege os direitos dos consumidores em suas interações com empresas.\n* **Direito Concorrencial:** Proíbe práticas anticompetitivas, como cartéis e abuso de posição dominante.\n* **Direito Internacional Empresarial:** Trata das transações comerciais transfronteiriças e das leis aplicáveis a empresas que operam em vários países.\n\n**Importância do Direito Empresarial**\n\nO Direito Empresarial é essencial para o funcionamento das economias modernas. Ele fornece segurança e previsibilidade para empresas e indivíduos, facilitando a condução de negócios e promovendo o crescimento econômico."
          },
          "metadata": {}
        },
        {
          "name": "stdout",
          "output_type": "stream",
          "text": [
            "Faça sua pergunta sobre Direito Empresarial: Encerrar chat\n"
          ]
        },
        {
          "output_type": "display_data",
          "data": {
            "text/plain": [
              "<IPython.core.display.Markdown object>"
            ],
            "text/markdown": "**Você**: Encerrar chat"
          },
          "metadata": {}
        },
        {
          "output_type": "display_data",
          "data": {
            "text/plain": [
              "<IPython.core.display.Markdown object>"
            ],
            "text/markdown": "**Jim**: Obrigado pela conversa. Tchau!"
          },
          "metadata": {}
        }
      ]
    },
    {
      "cell_type": "code",
      "source": [],
      "metadata": {
        "id": "N_8OOyxsHNuR"
      },
      "execution_count": null,
      "outputs": []
    }
  ]
}